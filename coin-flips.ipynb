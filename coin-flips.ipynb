{
 "cells": [
  {
   "cell_type": "code",
   "execution_count": 1,
   "metadata": {
    "collapsed": false
   },
   "outputs": [],
   "source": [
    "import random\n",
    "import math\n",
    "import statistics as st\n",
    "import matplotlib.pyplot as plt"
   ]
  },
  {
   "cell_type": "code",
   "execution_count": 2,
   "metadata": {
    "collapsed": false
   },
   "outputs": [],
   "source": [
    "%matplotlib inline\n",
    "# IPython Notebook–specific; means to show in the notebook"
   ]
  },
  {
   "cell_type": "code",
   "execution_count": null,
   "metadata": {
    "collapsed": false
   },
   "outputs": [],
   "source": [
    "help(random.gauss)"
   ]
  },
  {
   "cell_type": "code",
   "execution_count": null,
   "metadata": {
    "collapsed": true
   },
   "outputs": [],
   "source": [
    "data = [random.gauss(0,5) for _ in range(10000)]"
   ]
  },
  {
   "cell_type": "markdown",
   "metadata": {},
   "source": [
    "# Line Plots"
   ]
  },
  {
   "cell_type": "code",
   "execution_count": null,
   "metadata": {
    "collapsed": false
   },
   "outputs": [],
   "source": [
    "x1 = ['2014 Q1', '2014 Q2', '2014 Q3', '2014 Q4', '2015 Q1']\n",
    "y1 = [400, 700, 1200, 2000, 3000]\n",
    "plt.plot(y1)\n",
    "plt.xticks(range(5), x1)\n",
    "# plt.yticks(range(0, 3001, 1000),['0', '1k', '2k', '3k'])\n",
    "plt.xlabel('Quarter')\n",
    "plt.ylabel(\"Dollar Bills, Y'all\")\n",
    "plt.title('Sales')\n",
    "plt.show()"
   ]
  },
  {
   "cell_type": "code",
   "execution_count": null,
   "metadata": {
    "collapsed": false
   },
   "outputs": [],
   "source": [
    "log_nums = [math.log2(n + 1) for n in range(10000)]\n",
    "plt.plot(log_nums)\n",
    "plt.title('Log base 2 of n + 1')\n",
    "plt.show()"
   ]
  },
  {
   "cell_type": "code",
   "execution_count": null,
   "metadata": {
    "collapsed": false
   },
   "outputs": [],
   "source": [
    "log_nums = [math.log2(n + 1) for n in range(10000)]\n",
    "plt.plot(log_nums)\n",
    "plt.title('Log base 2 of n + 1')\n",
    "plt.xscale('log', basex=2)\n",
    "plt.show()"
   ]
  },
  {
   "cell_type": "code",
   "execution_count": null,
   "metadata": {
    "collapsed": true
   },
   "outputs": [],
   "source": [
    "def roll2():\n",
    "    die1 = random.randint(1, 6)\n",
    "    die2 = random.randint(1, 6)\n",
    "    \n",
    "    return die1 - die2"
   ]
  },
  {
   "cell_type": "code",
   "execution_count": null,
   "metadata": {
    "collapsed": true
   },
   "outputs": [],
   "source": [
    "num = 0\n",
    "nums = []\n",
    "for _ in range(10000):\n",
    "    num += roll2()\n",
    "    nums.append(num)"
   ]
  },
  {
   "cell_type": "code",
   "execution_count": null,
   "metadata": {
    "collapsed": false
   },
   "outputs": [],
   "source": [
    "num"
   ]
  },
  {
   "cell_type": "code",
   "execution_count": null,
   "metadata": {
    "collapsed": false
   },
   "outputs": [],
   "source": [
    "plt.plot(nums)\n",
    "plt.xscale('log')\n",
    "plt.title('Small variations at small scale, large variations overall')\n",
    "plt.show()"
   ]
  },
  {
   "cell_type": "code",
   "execution_count": null,
   "metadata": {
    "collapsed": false
   },
   "outputs": [],
   "source": [
    "# plt.scatter(*zip(*tuple))\n",
    "plt.hist(nums)\n",
    "mean = st.mean(nums)\n",
    "stdev = st.stdev(nums)\n",
    "ymin, ymax = plt.ylim()\n",
    "\n",
    "plt.vlines(mean, ymin, ymax, color='red')\n",
    "plt.vlines([mean - 2 * stdev, mean - stdev, mean + stdev, mean + 2 * stdev], ymin, ymax, color='red', linestyle='dashed' )\n"
   ]
  },
  {
   "cell_type": "code",
   "execution_count": null,
   "metadata": {
    "collapsed": false
   },
   "outputs": [],
   "source": [
    "group1 = [random.triangular(20, 180, 100) for _ in range(10000)]\n",
    "plt.boxplot(nums)\n",
    "plt.show()"
   ]
  },
  {
   "cell_type": "markdown",
   "metadata": {},
   "source": [
    "# Flipping Out\n",
    "### An exploration of large-scale, simulated coin-flipping\n",
    "We start by defining the \"simple\" function to simulate a coin flip. `flip_coin()` relies on the random library's `choice` function."
   ]
  },
  {
   "cell_type": "code",
   "execution_count": 3,
   "metadata": {
    "collapsed": true
   },
   "outputs": [],
   "source": [
    "def flip_coin():\n",
    "    return random.choice([0,1])"
   ]
  },
  {
   "cell_type": "markdown",
   "metadata": {},
   "source": [
    "Using the above as the core, the below function runs a simulation of _n_ flips and returns (1) the total differential of heads to tails at the observation points, (2) the ratio of heads at the observation points, and (3) the observation points (which are 2<sup>0</sup>, 2<sup>1</sup>, 2<sup>2</sup>, 2<sup>3</sup>, ... n).\n",
    "##### Note: It is possible to divide by zero when calculating the ratio of heads to tails (when a tails has not occurred); in this case, the ratio is returned as 1."
   ]
  },
  {
   "cell_type": "code",
   "execution_count": 4,
   "metadata": {
    "collapsed": false
   },
   "outputs": [],
   "source": [
    "def n_flip_sim(n=2**16):\n",
    "    num_heads = 0\n",
    "    log_2_diff = []\n",
    "    log_2_ratio = []\n",
    "    ret_expos = []\n",
    "    \n",
    "    # Identify how many powers of 2 will be needed\n",
    "    m = int(n)\n",
    "    count = 0\n",
    "    while m >= 1:\n",
    "        m = m//2\n",
    "        count += 1\n",
    "    \n",
    "    expos_of_2 = [2**y for y in range(count)]\n",
    "    flips = [flip_coin() for _ in range(n)]\n",
    "    for idx, flip in enumerate(flips):\n",
    "        if flip == 0:\n",
    "            num_heads += 1\n",
    "        if idx in expos_of_2 or idx == n - 1:\n",
    "            log_2_diff.append(num_heads - (idx - num_heads))\n",
    "            if idx - num_heads != 0:\n",
    "                log_2_ratio.append(num_heads / (idx - num_heads))\n",
    "            else:\n",
    "                log_2_ratio.append(1)\n",
    "    ret_expos = expos_of_2[:(len(log_2_diff) - 1)]\n",
    "    ret_expos.append(n)\n",
    "    return log_2_diff, log_2_ratio, ret_expos\n",
    "    "
   ]
  },
  {
   "cell_type": "code",
   "execution_count": 5,
   "metadata": {
    "collapsed": false
   },
   "outputs": [],
   "source": [
    "diffs, ratios, expos_of_2 = n_flip_sim()\n",
    "# The below are commented out because they will produce long lists with large datasets\n",
    "# You can try uncommenting to see what happens with smaller datasets\n",
    "# print(diffs)\n",
    "# print(expos_of_2)\n",
    "# print(ratios)"
   ]
  },
  {
   "cell_type": "markdown",
   "metadata": {},
   "source": [
    "### Plotting: What Do You See?"
   ]
  },
  {
   "cell_type": "code",
   "execution_count": 6,
   "metadata": {
    "collapsed": false
   },
   "outputs": [
    {
     "data": {
      "image/png": "[encoded data removed]",
      "text/plain": [
       "<matplotlib.figure.Figure at 0x112232438>"
      ]
     },
     "metadata": {},
     "output_type": "display_data"
    }
   ],
   "source": [
    "plt.plot(expos_of_2, diffs)\n",
    "plt.title('Difference in Heads vs. Tails')\n",
    "plt.ylabel('Heads are +ve')\n",
    "plt.xlabel('Number of Flips')\n",
    "plt.hlines(0, xmin=0, xmax=expos_of_2[-1], color='red')\n",
    "plt.show()"
   ]
  },
  {
   "cell_type": "markdown",
   "metadata": {},
   "source": [
    "Plotting our resulting \"difference\" data from the above `n_flip_sim()` function shows that the total variation can wander around as the number of flips increases."
   ]
  },
  {
   "cell_type": "code",
   "execution_count": 8,
   "metadata": {
    "collapsed": false
   },
   "outputs": [
    {
     "data": {
      "image/png": "[encoded data removed]",
      "text/plain": [
       "<matplotlib.figure.Figure at 0x1122f7080>"
      ]
     },
     "metadata": {},
     "output_type": "display_data"
    }
   ],
   "source": [
    "plt.plot(expos_of_2, ratios)\n",
    "plt.hlines(1, xmin=0, xmax=expos_of_2[-1], color='red')\n",
    "plt.title('Ratio of Heads to Tails')\n",
    "plt.xlabel('Number of Flips')\n",
    "plt.ylim(0.7,1.3)\n",
    "plt.show()"
   ]
  },
  {
   "cell_type": "markdown",
   "metadata": {},
   "source": [
    "Plotting the ratio of heads to tails shows that the overall variation is approaches the expected ratio of 1:1 as the number of flips gets higher."
   ]
  },
  {
   "cell_type": "code",
   "execution_count": 9,
   "metadata": {
    "collapsed": false
   },
   "outputs": [
    {
     "data": {
      "image/png": "[encoded data removed]",
      "text/plain": [
       "<matplotlib.figure.Figure at 0x11249d4a8>"
      ]
     },
     "metadata": {},
     "output_type": "display_data"
    }
   ],
   "source": [
    "plt.scatter(expos_of_2, diffs)\n",
    "plt.xscale('log', basex=2)\n",
    "plt.xlim(-10,)\n",
    "plt.title('Difference in Heads vs. Tails')\n",
    "plt.ylabel('Heads are +ve')\n",
    "plt.xlabel('Log of Number of Flips')\n",
    "plt.show()"
   ]
  },
  {
   "cell_type": "markdown",
   "metadata": {},
   "source": [
    "With the log<sub>2</sub> plot, it is easier to see how larger variations can build up as the number of overall flips increases. When you take into account the number of flips involved, the magnitude of the variation is remarkably small. 100/2<sup>14</sup> = 0.6103515625%"
   ]
  },
  {
   "cell_type": "code",
   "execution_count": 10,
   "metadata": {
    "collapsed": false
   },
   "outputs": [
    {
     "data": {
      "image/png": "[encoded data removed]",
      "text/plain": [
       "<matplotlib.figure.Figure at 0x112327da0>"
      ]
     },
     "metadata": {},
     "output_type": "display_data"
    }
   ],
   "source": [
    "plt.scatter(expos_of_2, ratios)\n",
    "plt.xscale('log', basex=2)\n",
    "plt.xlim(-10,)\n",
    "plt.hlines(1, xmin=0, xmax=expos_of_2[-1], color='red')\n",
    "plt.title('Ratio of Heads to Tails')\n",
    "plt.xlabel('Number of Flips')\n",
    "plt.show()"
   ]
  },
  {
   "cell_type": "markdown",
   "metadata": {},
   "source": [
    "Depending on the data generated, this can give surprising results for a low number of flips. We see a convergence at the expected ratio of 1:1 at a high number of flips, but with a low number of flips (e.g., 100), the ratio can be significantly different."
   ]
  },
  {
   "cell_type": "code",
   "execution_count": 11,
   "metadata": {
    "collapsed": false
   },
   "outputs": [
    {
     "data": {
      "image/png": "[encoded data removed]",
      "text/plain": [
       "<matplotlib.figure.Figure at 0x112561ef0>"
      ]
     },
     "metadata": {},
     "output_type": "display_data"
    }
   ],
   "source": [
    "plt.scatter(expos_of_2, ratios)\n",
    "plt.xscale('log', basex=2)\n",
    "plt.ylim(0.94, 1.06)\n",
    "plt.hlines(1, xmin=0, xmax=expos_of_2[-1], color='red')\n",
    "plt.title('Ratio of Heads to Tails')\n",
    "plt.xlabel('Number of Flips')\n",
    "plt.show()"
   ]
  },
  {
   "cell_type": "markdown",
   "metadata": {},
   "source": [
    "This zoomed-in view shows that after about 2<sup>11</sup> flips, we settle in very close to the ideal 1:1 ratio of heads to tails."
   ]
  },
  {
   "cell_type": "markdown",
   "metadata": {},
   "source": [
    "### Let's Look at How Comparable Simulations Differ\n",
    "The below function runs 20 trials of 2<sup>16</sup> flips each."
   ]
  },
  {
   "cell_type": "code",
   "execution_count": 12,
   "metadata": {
    "collapsed": true
   },
   "outputs": [],
   "source": [
    "def multiple_flip_trials(num_trials=20, n=2**16):\n",
    "    trial_diffs = []\n",
    "    trial_ratios = []\n",
    "    expos_of_2 = []\n",
    "    for t_num in range(num_trials):\n",
    "        this_diffs = []\n",
    "        this_ratios = []\n",
    "        this_diffs, this_ratios, expos_of_2 = n_flip_sim(n)\n",
    "        trial_diffs.append(this_diffs)\n",
    "        trial_ratios.append(this_ratios)\n",
    "    return trial_diffs, trial_ratios, expos_of_2"
   ]
  },
  {
   "cell_type": "code",
   "execution_count": 13,
   "metadata": {
    "collapsed": false
   },
   "outputs": [],
   "source": [
    "mft_data = multiple_flip_trials()"
   ]
  },
  {
   "cell_type": "code",
   "execution_count": 14,
   "metadata": {
    "collapsed": false
   },
   "outputs": [
    {
     "data": {
      "image/png": "[encoded data removed]",
      "text/plain": [
       "<matplotlib.figure.Figure at 0x110d6d2e8>"
      ]
     },
     "metadata": {},
     "output_type": "display_data"
    }
   ],
   "source": [
    "plt.scatter(mft_data[2], [st.mean(x) for x in list(zip(*mft_data[0]))])\n",
    "plt.xscale('log', basex=2)\n",
    "plt.title('Mean Difference in Heads vs. Tails\\n20 trials of 2^16 ea.')\n",
    "plt.xlabel('Log Base 2 Number of Flips')\n",
    "plt.hlines(0, 0, mft_data[2][-1], color='red')\n",
    "plt.show()"
   ]
  },
  {
   "cell_type": "markdown",
   "metadata": {},
   "source": [
    "\n",
    "It is interesting to see that even at 2<sup>15</sup> (32768) simulated flips, the mean of the 20-trial aggregate can be farily large (>60). Compared to a single trial—which can see a difference of several hundred at 2<sup>15</sup> flips—the 20-trial aggregate mean is much closer to 0."
   ]
  },
  {
   "cell_type": "code",
   "execution_count": 15,
   "metadata": {
    "collapsed": false
   },
   "outputs": [
    {
     "data": {
      "image/png": "[encoded data removed]",
      "text/plain": [
       "<matplotlib.figure.Figure at 0x1127d28d0>"
      ]
     },
     "metadata": {},
     "output_type": "display_data"
    }
   ],
   "source": [
    "plt.scatter(mft_data[2], [st.mean(x) for x in list(zip(*mft_data[1]))])\n",
    "plt.xscale('log', basex=2)\n",
    "plt.title('Mean Ratio of Heads to Tails\\n20 trials of 2^16 ea.')\n",
    "plt.xlabel('Log Base 2 Number of Flips')\n",
    "plt.hlines(1, 0, mft_data[2][-1], color='red')\n",
    "plt.show()"
   ]
  },
  {
   "cell_type": "markdown",
   "metadata": {},
   "source": [
    "Once the number of flips reaches about 2<sup>5</sup>, the ratio of heads to tails settles in very close to 1:1. See below graph for a zoomed-in view of just how close it gets."
   ]
  },
  {
   "cell_type": "code",
   "execution_count": 16,
   "metadata": {
    "collapsed": false
   },
   "outputs": [
    {
     "data": {
      "image/png": "[encoded data removed]",
      "text/plain": [
       "<matplotlib.figure.Figure at 0x1123d67b8>"
      ]
     },
     "metadata": {},
     "output_type": "display_data"
    }
   ],
   "source": [
    "plt.scatter(mft_data[2], [st.mean(x) for x in list(zip(*mft_data[1]))])\n",
    "plt.xscale('log', basex=2)\n",
    "plt.title('Mean Ratio of Heads to Tails\\n20 trials of 2^16 ea.')\n",
    "plt.xlabel('Log Base 2 Number of Flips')\n",
    "plt.hlines(1, 0, mft_data[2][-1], color='red')\n",
    "# plt.xlim(2**5, 2**16)\n",
    "plt.ylim(0.94, 1.06)\n",
    "plt.show()"
   ]
  },
  {
   "cell_type": "markdown",
   "metadata": {},
   "source": [
    "This zoomed-in version of the mean ratio plot for the 20-trial aggregate really shows off just how close we get to the 1:1 ideal. For a single 2<sup>16</sup> trial, we saw this sort of convergence only once we got to around 2<sup>12</sup> flips—here we see a similar level of convergence around 2<sup>7</sup>–2<sup>8</sup>. With a 20-trial mean, we'd expect a slightly greater than 2<sup>4</sup> reduction in the number of flips to achieve similar results. This seems to be the case."
   ]
  },
  {
   "cell_type": "code",
   "execution_count": 17,
   "metadata": {
    "collapsed": false
   },
   "outputs": [],
   "source": [
    "trials_100k_100 = multiple_flip_trials(100000, 100)"
   ]
  },
  {
   "cell_type": "code",
   "execution_count": null,
   "metadata": {
    "collapsed": false
   },
   "outputs": [],
   "source": []
  },
  {
   "cell_type": "code",
   "execution_count": null,
   "metadata": {
    "collapsed": true
   },
   "outputs": [],
   "source": []
  }
 ],
 "metadata": {
  "kernelspec": {
   "display_name": "Python 3",
   "language": "python",
   "name": "python3"
  },
  "language_info": {
   "codemirror_mode": {
    "name": "ipython",
    "version": 3
   },
   "file_extension": ".py",
   "mimetype": "text/x-python",
   "name": "python",
   "nbconvert_exporter": "python",
   "pygments_lexer": "ipython3",
   "version": "3.4.3"
  }
 },
 "nbformat": 4,
 "nbformat_minor": 0
}
